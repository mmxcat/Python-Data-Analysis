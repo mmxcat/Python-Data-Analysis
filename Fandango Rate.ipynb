{
 "cells": [
  {
   "cell_type": "code",
   "execution_count": 10,
   "metadata": {
    "collapsed": true
   },
   "outputs": [
    {
     "name": "stdout",
     "output_type": "stream",
     "text": [
      "0    Avengers: Age of Ultron (2015)\n",
      "1                 Cinderella (2015)\n",
      "2                    Ant-Man (2015)\n",
      "3            Do You Believe? (2015)\n",
      "4     Hot Tub Time Machine 2 (2015)\n",
      "5          The Water Diviner (2015)\n",
      "6             Irrational Man (2015)\n",
      "7                   Top Five (2014)\n",
      "8      Shaun the Sheep Movie (2015)\n",
      "9               Love & Mercy (2015)\n",
      "Name: FILM, dtype: object\n",
      "<class 'pandas.core.series.Series'>\n",
      "10    84\n",
      "11    82\n",
      "12    99\n",
      "13    51\n",
      "14    90\n",
      "15     9\n",
      "16    46\n",
      "17    59\n",
      "18    50\n",
      "19    17\n",
      "Name: RottenTomatoes, dtype: int64\n"
     ]
    }
   ],
   "source": [
    "#读取数据，.csv文件形成一个DataFrame结构，其中每行或者每列是一个Series数据结构\n",
    "import numpy as np\n",
    "import pandas as pd\n",
    "fandango_rate = pd.read_csv('fandango_score_comparison.csv')\n",
    "series_film=fandango_rate['FILM']\n",
    "print(series_film.head(10))\n",
    "print (type(series_film))\n",
    "series_rt = fandango_rate['RottenTomatoes']\n",
    "print (series_rt[10:20])"
   ]
  },
  {
   "cell_type": "code",
   "execution_count": 28,
   "metadata": {
    "collapsed": true
   },
   "outputs": [
    {
     "name": "stdout",
     "output_type": "stream",
     "text": [
      "<class 'numpy.ndarray'>\n",
      "['Avengers: Age of Ultron (2015)' 'Cinderella (2015)' 'Ant-Man (2015)'\n",
      " 'Do You Believe? (2015)' 'Hot Tub Time Machine 2 (2015)'\n",
      " 'The Water Diviner (2015)' 'Irrational Man (2015)' 'Top Five (2014)'\n",
      " 'Shaun the Sheep Movie (2015)' 'Love & Mercy (2015)']\n",
      "Avengers: Age of Ultron (2015)    74\n",
      "Cinderella (2015)                 85\n",
      "Ant-Man (2015)                    80\n",
      "Do You Believe? (2015)            18\n",
      "Hot Tub Time Machine 2 (2015)     14\n",
      "The Water Diviner (2015)          63\n",
      "Irrational Man (2015)             42\n",
      "Top Five (2014)                   86\n",
      "Shaun the Sheep Movie (2015)      99\n",
      "Love & Mercy (2015)               89\n",
      "dtype: int64\n",
      "Index(['Avengers: Age of Ultron (2015)', 'Cinderella (2015)', 'Ant-Man (2015)',\n",
      "       'Do You Believe? (2015)', 'Hot Tub Time Machine 2 (2015)'],\n",
      "      dtype='object')\n",
      "Ex Machina (2015)    92\n",
      "Inside Out (2015)    98\n",
      "dtype: int64\n"
     ]
    }
   ],
   "source": [
    "#新建Series结构的key和value\n",
    "from pandas import Series\n",
    "film_names = series_film.values#获取Series的值\n",
    "print (type(film_names))\n",
    "print (film_names[:10])\n",
    "#取烂番茄的评分作为值建立新的Series结构\n",
    "rt_scores = series_rt.values\n",
    "#print (rt_scores)\n",
    "series_custom = Series(rt_scores, index=film_names)\n",
    "print (series_custom.head(10))\n",
    "print (series_custom.index[:5])\n",
    "print (series_custom[['Ex Machina (2015)','Inside Out (2015)']])"
   ]
  },
  {
   "cell_type": "code",
   "execution_count": 39,
   "metadata": {
    "collapsed": true
   },
   "outputs": [
    {
     "name": "stdout",
     "output_type": "stream",
     "text": [
      "'71 (2015)                    97\n",
      "5 Flights Up (2015)           52\n",
      "A Little Chaos (2015)         40\n",
      "A Most Violent Year (2014)    90\n",
      "About Elly (2015)             97\n",
      "Aloha (2015)                  19\n",
      "American Sniper (2015)        72\n",
      "American Ultra (2015)         46\n",
      "Amy (2015)                    97\n",
      "Annie (2014)                  27\n",
      "dtype: int64\n",
      "======================\n",
      "Gett: The Trial of Viviane Amsalem (2015)    100\n",
      "Seymour: An Introduction (2015)              100\n",
      "Selma (2014)                                  99\n",
      "Phoenix (2015)                                99\n",
      "Song of the Sea (2014)                        99\n",
      "Leviathan (2014)                              99\n",
      "Shaun the Sheep Movie (2015)                  99\n",
      "Timbuktu (2015)                               99\n",
      "Mr. Turner (2014)                             98\n",
      "Paddington (2015)                             98\n",
      "dtype: int64\n"
     ]
    }
   ],
   "source": [
    "#Series排序\n",
    "print (series_custom.sort_index().head(10))#对索引排序\n",
    "print ('======================')\n",
    "print (series_custom.sort_values(ascending=False).head(10))#对值排序，默认升序，用ascending=False变为降序\n"
   ]
  },
  {
   "cell_type": "code",
   "execution_count": 38,
   "metadata": {
    "collapsed": true
   },
   "outputs": [
    {
     "name": "stdout",
     "output_type": "stream",
     "text": [
      "Gett: The Trial of Viviane Amsalem (2015)      100\n",
      "Seymour: An Introduction (2015)                100\n",
      "Shaun the Sheep Movie (2015)                    99\n",
      "Song of the Sea (2014)                          99\n",
      "Leviathan (2014)                                99\n",
      "Selma (2014)                                    99\n",
      "Timbuktu (2015)                                 99\n",
      "Phoenix (2015)                                  99\n",
      "Inside Out (2015)                               98\n",
      "Paddington (2015)                               98\n",
      "Mr. Turner (2014)                               98\n",
      "'71 (2015)                                      97\n",
      "Amy (2015)                                      97\n",
      "Mad Max: Fury Road (2015)                       97\n",
      "About Elly (2015)                               97\n",
      "Two Days, One Night (2014)                      97\n",
      "What We Do in the Shadows (2015)                96\n",
      "Wild Tales (2014)                               96\n",
      "Red Army (2015)                                 96\n",
      "The Salt of the Earth (2015)                    96\n",
      "It Follows (2015)                               96\n",
      "Tangerine (2015)                                95\n",
      "The Diary of a Teenage Girl (2015)              95\n",
      "Monkey Kingdom (2015)                           94\n",
      "I'll See You In My Dreams (2015)                94\n",
      "The Gift (2015)                                 93\n",
      "The Wrecking Crew (2015)                        93\n",
      "Spy (2015)                                      93\n",
      "Birdman (2014)                                  92\n",
      "The Hunting Ground (2015)                       92\n",
      "The End of the Tour (2015)                      92\n",
      "Ex Machina (2015)                               92\n",
      "Mission: Impossible â€“ Rogue Nation (2015)     92\n",
      "A Most Violent Year (2014)                      90\n",
      "Straight Outta Compton (2015)                   90\n",
      "The Imitation Game (2014)                       90\n",
      "dtype: int64\n",
      "======================\n",
      "Danny Collins (2015)                               77\n",
      "The SpongeBob Movie: Sponge Out of Water (2015)    78\n",
      "McFarland, USA (2015)                              79\n",
      "Ant-Man (2015)                                     80\n",
      "Infinitely Polar Bear (2015)                       80\n",
      "Me and Earl and The Dying Girl (2015)              81\n",
      "Testament of Youth (2015)                          81\n",
      "Furious 7 (2015)                                   81\n",
      "Black Sea (2015)                                   82\n",
      "The Overnight (2015)                               82\n",
      "While We're Young (2015)                           83\n",
      "The Stanford Prison Experiment (2015)              84\n",
      "Far From The Madding Crowd (2015)                  84\n",
      "The Wolfpack (2015)                                84\n",
      "Cinderella (2015)                                  85\n",
      "Trainwreck (2015)                                  85\n",
      "Top Five (2014)                                    86\n",
      "Mr. Holmes (2015)                                  87\n",
      "Dope (2015)                                        87\n",
      "Kumiko, The Treasure Hunter (2015)                 87\n",
      "Still Alice (2015)                                 88\n",
      "Clouds of Sils Maria (2015)                        89\n",
      "When Marnie Was There (2015)                       89\n",
      "Love & Mercy (2015)                                89\n",
      "dtype: int64\n"
     ]
    }
   ],
   "source": [
    "#区间检索(90分以上电影)，降序排列\n",
    "print (series_custom[series_custom.values>=90].sort_values(ascending=False))\n",
    "#检索75到90分的电影，升序排列\n",
    "print ('======================')\n",
    "lower_bound = series_custom.values>75\n",
    "higher_bound = series_custom.values<90\n",
    "print (series_custom[lower_bound&higher_bound].sort_values())"
   ]
  },
  {
   "cell_type": "code",
   "execution_count": 43,
   "metadata": {
    "collapsed": true
   },
   "outputs": [
    {
     "name": "stdout",
     "output_type": "stream",
     "text": [
      "Inside Out (2015)                              91.5\n",
      "About Elly (2015)                              91.5\n",
      "Two Days, One Night (2014)                     88.5\n",
      "Mad Max: Fury Road (2015)                      88.0\n",
      "Amy (2015)                                     86.5\n",
      "Phoenix (2015)                                 85.5\n",
      "Shaun the Sheep Movie (2015)                   84.5\n",
      "Song of the Sea (2014)                         84.0\n",
      "Birdman (2014)                                 84.0\n",
      "Wild Tales (2014)                              82.5\n",
      "Love & Mercy (2015)                            82.5\n",
      "Leviathan (2014)                               82.0\n",
      "Gett: The Trial of Viviane Amsalem (2015)      81.5\n",
      "The Salt of the Earth (2015)                   80.5\n",
      "Selma (2014)                                   80.0\n",
      "Mr. Turner (2014)                              80.0\n",
      "Timbuktu (2015)                                80.0\n",
      "The Gift (2015)                                80.0\n",
      "Paddington (2015)                              79.5\n",
      "The End of the Tour (2015)                     79.5\n",
      "Tangerine (2015)                               79.5\n",
      "What We Do in the Shadows (2015)               79.0\n",
      "Me and Earl and The Dying Girl (2015)          79.0\n",
      "'71 (2015)                                     79.0\n",
      "It Follows (2015)                              79.0\n",
      "Ex Machina (2015)                              78.5\n",
      "Testament of Youth (2015)                      78.0\n",
      "Red Army (2015)                                78.0\n",
      "Mission: Impossible â€“ Rogue Nation (2015)    77.5\n",
      "The Imitation Game (2014)                      77.5\n",
      "                                               ... \n",
      "The Vatican Tapes (2015)                       45.5\n",
      "Entourage (2015)                               45.0\n",
      "Little Boy (2015)                              44.5\n",
      "Serena (2015)                                  44.5\n",
      "The Woman In Black 2 Angel of Death (2015)     43.0\n",
      "The Boy Next Door (2015)                       42.5\n",
      "Jupiter Ascending (2015)                       42.5\n",
      "Poltergeist (2015)                             42.0\n",
      "The Gunman (2015)                              41.0\n",
      "Annie (2014)                                   40.5\n",
      "Sinister 2 (2015)                              40.5\n",
      "The Longest Ride (2015)                        40.5\n",
      "The Lazarus Effect (2015)                      40.0\n",
      "Aloha (2015)                                   40.0\n",
      "Pixels (2015)                                  40.0\n",
      "Fifty Shades of Grey (2015)                    39.0\n",
      "Strange Magic (2015)                           39.0\n",
      "Get Hard (2015)                                36.0\n",
      "Taken 3 (2015)                                 36.0\n",
      "Unfinished Business (2015)                     35.0\n",
      "Do You Believe? (2015)                         34.5\n",
      "Seventh Son (2015)                             34.5\n",
      "The Wedding Ringer (2015)                      34.0\n",
      "Hot Pursuit (2015)                             34.0\n",
      "Hot Tub Time Machine 2 (2015)                  31.5\n",
      "Hitman: Agent 47 (2015)                        30.5\n",
      "Mortdecai (2015)                               29.5\n",
      "Fantastic Four (2015)                          26.0\n",
      "The Loft (2015)                                24.0\n",
      "Paul Blart: Mall Cop 2 (2015)                  18.5\n",
      "Length: 146, dtype: float64\n"
     ]
    }
   ],
   "source": [
    "#求Meta媒体和观众对电影评分均值，降序排列\n",
    "meta = Series(fandango_rate['Metacritic'].values, index=film_names)\n",
    "meta_users = Series(fandango_rate['Metacritic_User'].values, index=film_names)\n",
    "average = (meta+meta_users*10)/2\n",
    "print(average.sort_values(ascending=False))"
   ]
  },
  {
   "cell_type": "code",
   "execution_count": null,
   "metadata": {
    "collapsed": true
   },
   "outputs": [],
   "source": []
  }
 ],
 "metadata": {
  "kernelspec": {
   "display_name": "Python 3",
   "language": "python",
   "name": "python3"
  },
  "language_info": {
   "codemirror_mode": {
    "name": "ipython",
    "version": 3
   },
   "file_extension": ".py",
   "mimetype": "text/x-python",
   "name": "python",
   "nbconvert_exporter": "python",
   "pygments_lexer": "ipython3",
   "version": "3.6.3"
  }
 },
 "nbformat": 4,
 "nbformat_minor": 2
}
